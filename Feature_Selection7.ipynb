{
  "nbformat": 4,
  "nbformat_minor": 0,
  "metadata": {
    "colab": {
      "provenance": []
    },
    "kernelspec": {
      "name": "python3",
      "display_name": "Python 3"
    },
    "language_info": {
      "name": "python"
    }
  },
  "cells": [
    {
      "cell_type": "code",
      "execution_count": 1,
      "metadata": {
        "id": "QpwvVmqZEl64"
      },
      "outputs": [],
      "source": [
        "import numpy as np\n",
        "import pandas as pd\n",
        "import matplotlib.pyplot as plt\n",
        "%matplotlib inline"
      ]
    },
    {
      "cell_type": "code",
      "source": [
        "feature_df = pd.read_csv('House_data.csv')\n",
        "feature_df = feature_df.head(100)"
      ],
      "metadata": {
        "id": "6sdxqocKE0iA"
      },
      "execution_count": 2,
      "outputs": []
    },
    {
      "cell_type": "code",
      "source": [
        "feature_df['basement'] = (feature_df['sqft_basement'] > 0).astype(int)\n",
        "feature_df['renovated'] = (feature_df['yr_renovated'] > 0).astype(int)\n",
        "to_drop = ['id', 'date', 'sqft_basement', 'yr_renovated']\n",
        "feature_df.drop(to_drop, axis = 1, inplace = True)\n",
        "cat_cols = ['waterfront', 'view', 'condition', 'grade', 'floors']\n",
        "feature_df = pd.get_dummies(feature_df, columns = cat_cols, drop_first=True)"
      ],
      "metadata": {
        "id": "R81BI0NUE4M6"
      },
      "execution_count": 3,
      "outputs": []
    },
    {
      "cell_type": "code",
      "source": [
        "y = feature_df.iloc[:, 0].values\n",
        "X = feature_df.iloc[:, 1:].values"
      ],
      "metadata": {
        "id": "9FP7k-7lE8Hn"
      },
      "execution_count": 4,
      "outputs": []
    },
    {
      "cell_type": "code",
      "source": [
        "from sklearn.ensemble import ExtraTreesClassifier\n",
        "tree_clf = ExtraTreesClassifier()\n",
        "tree_clf.fit(X, y)\n",
        "\n",
        "tree_clf.feature_importances_"
      ],
      "metadata": {
        "colab": {
          "base_uri": "https://localhost:8080/"
        },
        "id": "LDPFTdsjE-Pz",
        "outputId": "d2e8e38c-c1cf-48d9-9608-bbc88a687f59"
      },
      "execution_count": 5,
      "outputs": [
        {
          "output_type": "execute_result",
          "data": {
            "text/plain": [
              "array([0.05183795, 0.05180366, 0.07296732, 0.07220497, 0.07047966,\n",
              "       0.07122456, 0.07221617, 0.07293108, 0.07745694, 0.0707418 ,\n",
              "       0.07143447, 0.02748003, 0.00644264, 0.00122579, 0.00460248,\n",
              "       0.01479904, 0.00461528, 0.00275704, 0.02717017, 0.02363135,\n",
              "       0.01207204, 0.00828024, 0.02227553, 0.01959461, 0.01335748,\n",
              "       0.0070691 , 0.0040862 , 0.0170152 , 0.02310875, 0.00511849])"
            ]
          },
          "metadata": {},
          "execution_count": 5
        }
      ]
    },
    {
      "cell_type": "code",
      "source": [
        "\n",
        "importances = tree_clf.feature_importances_\n",
        "feature_names = feature_df.iloc[:, 1:].columns.tolist()\n",
        "feature_names\n",
        "feature_imp_dir = dict(zip(feature_names, importances))\n",
        "features = sorted(feature_imp_dir.items(), key=lambda x: x[1], reverse=True)\n",
        "feature_imp_dir"
      ],
      "metadata": {
        "colab": {
          "base_uri": "https://localhost:8080/"
        },
        "id": "C6Fz6xSSFDBc",
        "outputId": "a9e8c3f2-d1f8-41cc-e28b-e26fc866c72c"
      },
      "execution_count": 6,
      "outputs": [
        {
          "output_type": "execute_result",
          "data": {
            "text/plain": [
              "{'bedrooms': 0.05183795489656588,\n",
              " 'bathrooms': 0.05180365587269829,\n",
              " 'sqft_living': 0.07296731884196252,\n",
              " 'sqft_lot': 0.07220496702120145,\n",
              " 'sqft_above': 0.07047965673672119,\n",
              " 'yr_built': 0.07122456066687931,\n",
              " 'zipcode': 0.07221617063422694,\n",
              " 'lat': 0.07293107848457356,\n",
              " 'long': 0.07745693811352776,\n",
              " 'sqft_living15': 0.07074179661911975,\n",
              " 'sqft_lot15': 0.07143446602753853,\n",
              " 'basement': 0.02748002922664791,\n",
              " 'renovated': 0.006442642281736402,\n",
              " 'waterfront_1': 0.0012257856399812282,\n",
              " 'view_2': 0.0046024774940083705,\n",
              " 'view_3': 0.014799035656724552,\n",
              " 'view_4': 0.004615279540214109,\n",
              " 'condition_2': 0.0027570389038585096,\n",
              " 'condition_3': 0.02717016608844649,\n",
              " 'condition_4': 0.023631353493822668,\n",
              " 'condition_5': 0.012072041424022573,\n",
              " 'grade_6': 0.00828024173515278,\n",
              " 'grade_7': 0.022275527844289093,\n",
              " 'grade_8': 0.019594606820958232,\n",
              " 'grade_9': 0.013357475828527216,\n",
              " 'grade_10': 0.007069098550959184,\n",
              " 'grade_11': 0.004086197321313936,\n",
              " 'floors_1.5': 0.017015199354238085,\n",
              " 'floors_2.0': 0.023108748990573975,\n",
              " 'floors_3.0': 0.005118489889509743}"
            ]
          },
          "metadata": {},
          "execution_count": 6
        }
      ]
    },
    {
      "cell_type": "code",
      "source": [
        "plt.bar(range(len(features)), [imp[1] for imp in features], align='center')\n",
        "plt.title('The important features in House Data');"
      ],
      "metadata": {
        "colab": {
          "base_uri": "https://localhost:8080/",
          "height": 452
        },
        "id": "P6ESFaqUFGzL",
        "outputId": "491df644-b086-46e5-e8fd-730263df9d7d"
      },
      "execution_count": 7,
      "outputs": [
        {
          "output_type": "display_data",
          "data": {
            "text/plain": [
              "<Figure size 640x480 with 1 Axes>"
            ],
            "image/png": "[encoded data removed]"
          },
          "metadata": {}
        }
      ]
    },
    {
      "cell_type": "code",
      "source": [
        "\n",
        "from sklearn.feature_selection import SelectFromModel\n",
        "abc = SelectFromModel(tree_clf, prefit = True)\n",
        "x_updated = abc.transform(X)\n",
        "print('Total Features count:', np.array(X).shape[1])\n",
        "print('Selected Features: ' ,np.array(x_updated).shape[1])"
      ],
      "metadata": {
        "colab": {
          "base_uri": "https://localhost:8080/"
        },
        "id": "UvZhk6zhFLuk",
        "outputId": "451e93e7-383a-47db-de39-240b0e36f823"
      },
      "execution_count": 8,
      "outputs": [
        {
          "output_type": "stream",
          "name": "stdout",
          "text": [
            "Total Features count: 30\n",
            "Selected Features:  11\n"
          ]
        }
      ]
    }
  ]
}