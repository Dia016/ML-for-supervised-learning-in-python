{
  "nbformat": 4,
  "nbformat_minor": 0,
  "metadata": {
    "colab": {
      "provenance": []
    },
    "kernelspec": {
      "name": "python3",
      "display_name": "Python 3"
    },
    "language_info": {
      "name": "python"
    }
  },
  "cells": [
    {
      "cell_type": "code",
      "execution_count": 1,
      "metadata": {
        "id": "jIucZcsSFW9s"
      },
      "outputs": [],
      "source": [
        "import pandas as pd\n",
        "import numpy as np\n",
        "import matplotlib.pyplot as plt\n",
        "%matplotlib inline\n",
        "petrol_data = pd.read_csv('petrol_consumption.csv')\n",
        "X = petrol_data.drop('Petrol_Consumption', axis=1)\n",
        "y = petrol_data['Petrol_Consumption']\n",
        "from sklearn.model_selection import train_test_split\n",
        "X_train, X_test, y_train, y_test = train_test_split(X, y, test_size=0.20, random_state=0)"
      ]
    },
    {
      "cell_type": "code",
      "source": [
        "## Random Forest\n",
        "from sklearn.ensemble import RandomForestClassifier\n",
        "\n",
        "# Create the model with 100 trees\n",
        "randomForestModel = RandomForestClassifier(n_estimators=200,\n",
        "                               bootstrap = True,\n",
        "                               max_features = 'sqrt')\n",
        "# Fit on training data\n",
        "randomForestModel.fit(X_train, y_train)\n",
        "RandomForestClassifier(max_features='sqrt', n_estimators=200)\n",
        "rf_predictions = randomForestModel.predict(X_test)"
      ],
      "metadata": {
        "id": "3zw46qsCFj8L"
      },
      "execution_count": 2,
      "outputs": []
    },
    {
      "cell_type": "code",
      "source": [
        "from sklearn import metrics\n",
        "print('Mean Absolute Error:', metrics.mean_absolute_error(y_test, rf_predictions))\n",
        "print('Mean Squared Error:', metrics.mean_squared_error(y_test, rf_predictions))\n",
        "print('Root Mean Squared Error:', np.sqrt(metrics.mean_squared_error(y_test, rf_predictions)))"
      ],
      "metadata": {
        "colab": {
          "base_uri": "https://localhost:8080/"
        },
        "id": "fBBY7lINFsAK",
        "outputId": "984fc79b-45c3-4b5c-ddc9-816087a176db"
      },
      "execution_count": 3,
      "outputs": [
        {
          "output_type": "stream",
          "name": "stdout",
          "text": [
            "Mean Absolute Error: 55.7\n",
            "Mean Squared Error: 5066.7\n",
            "Root Mean Squared Error: 71.18075582627652\n"
          ]
        }
      ]
    },
    {
      "cell_type": "code",
      "source": [
        "feature_list=X_train.columns\n",
        "# Get numerical feature importances\n",
        "importances = list(randomForestModel.feature_importances_)\n",
        "# List of tuples with variable and importance\n",
        "feature_importances = [(feature, round(importance, 2)) for feature, importance in zip(feature_list, importances)]\n",
        "# Sort the feature importances by most important first\n",
        "feature_importances = sorted(feature_importances, key = lambda x: x[1], reverse = True)\n",
        "# Print out the feature and importances\n",
        "[print('Variable: {:20} Importance: {}'.format(*pair)) for pair in feature_importances];"
      ],
      "metadata": {
        "colab": {
          "base_uri": "https://localhost:8080/"
        },
        "id": "_KKnfpl3Fvz5",
        "outputId": "5e413e96-4a6d-41e1-b4e0-0bfc39fdfb67"
      },
      "execution_count": 4,
      "outputs": [
        {
          "output_type": "stream",
          "name": "stdout",
          "text": [
            "Variable: Average_income       Importance: 0.29\n",
            "Variable: Paved_Highways       Importance: 0.28\n",
            "Variable: Population_Driver_licence(%) Importance: 0.28\n",
            "Variable: Petrol_tax           Importance: 0.15\n"
          ]
        }
      ]
    },
    {
      "cell_type": "code",
      "source": [
        "type(feature_list)\n",
        "feature_list"
      ],
      "metadata": {
        "colab": {
          "base_uri": "https://localhost:8080/"
        },
        "id": "sgQBvvq-F1Gu",
        "outputId": "138b9955-4a65-4fcc-86bc-665c6fd2f61a"
      },
      "execution_count": 5,
      "outputs": [
        {
          "output_type": "execute_result",
          "data": {
            "text/plain": [
              "Index(['Petrol_tax', 'Average_income', 'Paved_Highways',\n",
              "       'Population_Driver_licence(%)'],\n",
              "      dtype='object')"
            ]
          },
          "metadata": {},
          "execution_count": 5
        }
      ]
    },
    {
      "cell_type": "code",
      "source": [
        "# New random forest with only the two most important variables\n",
        "# Import the model we are using\n",
        "from sklearn.ensemble import RandomForestRegressor\n",
        "rf_most_important = RandomForestRegressor(n_estimators= 500, random_state=5)\n",
        "# Extract the two most important features\n",
        "important_indices = [feature_list[2], feature_list[1]]\n",
        "train_important = X_train.loc[:, ['Paved_Highways','Average_income','Population_Driver_licence(%)']]\n",
        "test_important = X_test.loc[:, ['Paved_Highways','Average_income','Population_Driver_licence(%)']]\n",
        "# Train the random forest\n",
        "rf_most_important.fit(train_important, y_train)\n",
        "# Make predictions and determine the error\n",
        "predictions = rf_most_important.predict(test_important)\n",
        "predictions"
      ],
      "metadata": {
        "colab": {
          "base_uri": "https://localhost:8080/"
        },
        "id": "Gh0aT1W8F58r",
        "outputId": "054033bc-026e-4cab-e30d-b53720ce4f50"
      },
      "execution_count": 6,
      "outputs": [
        {
          "output_type": "execute_result",
          "data": {
            "text/plain": [
              "array([605.83 , 484.104, 623.094, 589.88 , 628.962, 607.238, 604.546,\n",
              "       572.176, 473.598, 510.536])"
            ]
          },
          "metadata": {},
          "execution_count": 6
        }
      ]
    },
    {
      "cell_type": "code",
      "source": [
        "print('Mean Absolute Error:', metrics.mean_absolute_error(y_test, predictions))\n",
        "print('Mean Squared Error:', metrics.mean_squared_error(y_test, predictions))\n",
        "print('Root Mean Squared Error:', np.sqrt(metrics.mean_squared_error(y_test, predictions)))"
      ],
      "metadata": {
        "colab": {
          "base_uri": "https://localhost:8080/"
        },
        "id": "pd2nFxkmF6ww",
        "outputId": "57deba18-aac2-406b-f112-d696f7f1d238"
      },
      "execution_count": 7,
      "outputs": [
        {
          "output_type": "stream",
          "name": "stdout",
          "text": [
            "Mean Absolute Error: 56.80640000000001\n",
            "Mean Squared Error: 4410.0591032\n",
            "Root Mean Squared Error: 66.40827586378072\n"
          ]
        }
      ]
    },
    {
      "cell_type": "code",
      "source": [],
      "metadata": {
        "id": "I426b6tMF90-"
      },
      "execution_count": null,
      "outputs": []
    }
  ]
}