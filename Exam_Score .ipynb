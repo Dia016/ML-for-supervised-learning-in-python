{
 "cells": [
  {
   "cell_type": "code",
   "execution_count": 1,
   "id": "601ddf9b",
   "metadata": {},
   "outputs": [
    {
     "data": {
      "text/html": [
       "<div>\n",
       "<style scoped>\n",
       "    .dataframe tbody tr th:only-of-type {\n",
       "        vertical-align: middle;\n",
       "    }\n",
       "\n",
       "    .dataframe tbody tr th {\n",
       "        vertical-align: top;\n",
       "    }\n",
       "\n",
       "    .dataframe thead th {\n",
       "        text-align: right;\n",
       "    }\n",
       "</style>\n",
       "<table border=\"1\" class=\"dataframe\">\n",
       "  <thead>\n",
       "    <tr style=\"text-align: right;\">\n",
       "      <th></th>\n",
       "      <th>Unnamed: 0</th>\n",
       "      <th>Hindi</th>\n",
       "      <th>English</th>\n",
       "      <th>Science</th>\n",
       "      <th>Maths</th>\n",
       "      <th>History</th>\n",
       "      <th>Geograpgy</th>\n",
       "      <th>Total</th>\n",
       "      <th>Results</th>\n",
       "      <th>Div</th>\n",
       "    </tr>\n",
       "  </thead>\n",
       "  <tbody>\n",
       "    <tr>\n",
       "      <th>0</th>\n",
       "      <td>0</td>\n",
       "      <td>65</td>\n",
       "      <td>10</td>\n",
       "      <td>59</td>\n",
       "      <td>3</td>\n",
       "      <td>71</td>\n",
       "      <td>37</td>\n",
       "      <td>245</td>\n",
       "      <td>0</td>\n",
       "      <td>3</td>\n",
       "    </tr>\n",
       "    <tr>\n",
       "      <th>1</th>\n",
       "      <td>1</td>\n",
       "      <td>94</td>\n",
       "      <td>56</td>\n",
       "      <td>4</td>\n",
       "      <td>67</td>\n",
       "      <td>91</td>\n",
       "      <td>50</td>\n",
       "      <td>362</td>\n",
       "      <td>1</td>\n",
       "      <td>1</td>\n",
       "    </tr>\n",
       "    <tr>\n",
       "      <th>2</th>\n",
       "      <td>2</td>\n",
       "      <td>7</td>\n",
       "      <td>85</td>\n",
       "      <td>76</td>\n",
       "      <td>99</td>\n",
       "      <td>60</td>\n",
       "      <td>25</td>\n",
       "      <td>352</td>\n",
       "      <td>0</td>\n",
       "      <td>2</td>\n",
       "    </tr>\n",
       "    <tr>\n",
       "      <th>3</th>\n",
       "      <td>3</td>\n",
       "      <td>88</td>\n",
       "      <td>46</td>\n",
       "      <td>59</td>\n",
       "      <td>94</td>\n",
       "      <td>52</td>\n",
       "      <td>38</td>\n",
       "      <td>377</td>\n",
       "      <td>1</td>\n",
       "      <td>1</td>\n",
       "    </tr>\n",
       "    <tr>\n",
       "      <th>4</th>\n",
       "      <td>4</td>\n",
       "      <td>39</td>\n",
       "      <td>81</td>\n",
       "      <td>37</td>\n",
       "      <td>38</td>\n",
       "      <td>6</td>\n",
       "      <td>54</td>\n",
       "      <td>255</td>\n",
       "      <td>1</td>\n",
       "      <td>3</td>\n",
       "    </tr>\n",
       "  </tbody>\n",
       "</table>\n",
       "</div>"
      ],
      "text/plain": [
       "   Unnamed: 0  Hindi  English  Science  Maths  History  Geograpgy  Total  \\\n",
       "0           0     65       10       59      3       71         37    245   \n",
       "1           1     94       56        4     67       91         50    362   \n",
       "2           2      7       85       76     99       60         25    352   \n",
       "3           3     88       46       59     94       52         38    377   \n",
       "4           4     39       81       37     38        6         54    255   \n",
       "\n",
       "   Results  Div  \n",
       "0        0    3  \n",
       "1        1    1  \n",
       "2        0    2  \n",
       "3        1    1  \n",
       "4        1    3  "
      ]
     },
     "execution_count": 1,
     "metadata": {},
     "output_type": "execute_result"
    }
   ],
   "source": [
    "import pandas as pd\n",
    "import numpy as np\n",
    "import seaborn as sns\n",
    "import matplotlib.pyplot as plt\n",
    "import warnings\n",
    "warnings.filterwarnings(\"ignore\")\n",
    "\n",
    "df=pd.read_csv(\"C:/Users/Admin/Downloads/results.csv\")\n",
    "df.head()\n"
   ]
  },
  {
   "cell_type": "code",
   "execution_count": 2,
   "id": "2a96d376",
   "metadata": {},
   "outputs": [],
   "source": [
    "df=df.drop(\"Unnamed: 0\",axis=1)"
   ]
  },
  {
   "cell_type": "code",
   "execution_count": 3,
   "id": "4034bd75",
   "metadata": {},
   "outputs": [
    {
     "data": {
      "text/html": [
       "<div>\n",
       "<style scoped>\n",
       "    .dataframe tbody tr th:only-of-type {\n",
       "        vertical-align: middle;\n",
       "    }\n",
       "\n",
       "    .dataframe tbody tr th {\n",
       "        vertical-align: top;\n",
       "    }\n",
       "\n",
       "    .dataframe thead th {\n",
       "        text-align: right;\n",
       "    }\n",
       "</style>\n",
       "<table border=\"1\" class=\"dataframe\">\n",
       "  <thead>\n",
       "    <tr style=\"text-align: right;\">\n",
       "      <th></th>\n",
       "      <th>Hindi</th>\n",
       "      <th>English</th>\n",
       "      <th>Science</th>\n",
       "      <th>Maths</th>\n",
       "      <th>History</th>\n",
       "      <th>Geograpgy</th>\n",
       "      <th>Total</th>\n",
       "      <th>Results</th>\n",
       "      <th>Div</th>\n",
       "    </tr>\n",
       "  </thead>\n",
       "  <tbody>\n",
       "    <tr>\n",
       "      <th>0</th>\n",
       "      <td>65</td>\n",
       "      <td>10</td>\n",
       "      <td>59</td>\n",
       "      <td>3</td>\n",
       "      <td>71</td>\n",
       "      <td>37</td>\n",
       "      <td>245</td>\n",
       "      <td>0</td>\n",
       "      <td>3</td>\n",
       "    </tr>\n",
       "    <tr>\n",
       "      <th>1</th>\n",
       "      <td>94</td>\n",
       "      <td>56</td>\n",
       "      <td>4</td>\n",
       "      <td>67</td>\n",
       "      <td>91</td>\n",
       "      <td>50</td>\n",
       "      <td>362</td>\n",
       "      <td>1</td>\n",
       "      <td>1</td>\n",
       "    </tr>\n",
       "    <tr>\n",
       "      <th>2</th>\n",
       "      <td>7</td>\n",
       "      <td>85</td>\n",
       "      <td>76</td>\n",
       "      <td>99</td>\n",
       "      <td>60</td>\n",
       "      <td>25</td>\n",
       "      <td>352</td>\n",
       "      <td>0</td>\n",
       "      <td>2</td>\n",
       "    </tr>\n",
       "    <tr>\n",
       "      <th>3</th>\n",
       "      <td>88</td>\n",
       "      <td>46</td>\n",
       "      <td>59</td>\n",
       "      <td>94</td>\n",
       "      <td>52</td>\n",
       "      <td>38</td>\n",
       "      <td>377</td>\n",
       "      <td>1</td>\n",
       "      <td>1</td>\n",
       "    </tr>\n",
       "    <tr>\n",
       "      <th>4</th>\n",
       "      <td>39</td>\n",
       "      <td>81</td>\n",
       "      <td>37</td>\n",
       "      <td>38</td>\n",
       "      <td>6</td>\n",
       "      <td>54</td>\n",
       "      <td>255</td>\n",
       "      <td>1</td>\n",
       "      <td>3</td>\n",
       "    </tr>\n",
       "  </tbody>\n",
       "</table>\n",
       "</div>"
      ],
      "text/plain": [
       "   Hindi  English  Science  Maths  History  Geograpgy  Total  Results  Div\n",
       "0     65       10       59      3       71         37    245        0    3\n",
       "1     94       56        4     67       91         50    362        1    1\n",
       "2      7       85       76     99       60         25    352        0    2\n",
       "3     88       46       59     94       52         38    377        1    1\n",
       "4     39       81       37     38        6         54    255        1    3"
      ]
     },
     "execution_count": 3,
     "metadata": {},
     "output_type": "execute_result"
    }
   ],
   "source": [
    "df.head()"
   ]
  },
  {
   "cell_type": "code",
   "execution_count": 4,
   "id": "0d0c54f2",
   "metadata": {},
   "outputs": [
    {
     "name": "stdout",
     "output_type": "stream",
     "text": [
      "<class 'pandas.core.frame.DataFrame'>\n",
      "RangeIndex: 1000 entries, 0 to 999\n",
      "Data columns (total 9 columns):\n",
      " #   Column     Non-Null Count  Dtype\n",
      "---  ------     --------------  -----\n",
      " 0   Hindi      1000 non-null   int64\n",
      " 1   English    1000 non-null   int64\n",
      " 2   Science    1000 non-null   int64\n",
      " 3   Maths      1000 non-null   int64\n",
      " 4   History    1000 non-null   int64\n",
      " 5   Geograpgy  1000 non-null   int64\n",
      " 6   Total      1000 non-null   int64\n",
      " 7   Results    1000 non-null   int64\n",
      " 8   Div        1000 non-null   int64\n",
      "dtypes: int64(9)\n",
      "memory usage: 70.4 KB\n"
     ]
    }
   ],
   "source": [
    "df.info()"
   ]
  },
  {
   "cell_type": "code",
   "execution_count": 5,
   "id": "ecf37e83",
   "metadata": {},
   "outputs": [
    {
     "data": {
      "text/html": [
       "<div>\n",
       "<style scoped>\n",
       "    .dataframe tbody tr th:only-of-type {\n",
       "        vertical-align: middle;\n",
       "    }\n",
       "\n",
       "    .dataframe tbody tr th {\n",
       "        vertical-align: top;\n",
       "    }\n",
       "\n",
       "    .dataframe thead th {\n",
       "        text-align: right;\n",
       "    }\n",
       "</style>\n",
       "<table border=\"1\" class=\"dataframe\">\n",
       "  <thead>\n",
       "    <tr style=\"text-align: right;\">\n",
       "      <th></th>\n",
       "      <th>count</th>\n",
       "      <th>mean</th>\n",
       "      <th>std</th>\n",
       "      <th>min</th>\n",
       "      <th>25%</th>\n",
       "      <th>50%</th>\n",
       "      <th>75%</th>\n",
       "      <th>max</th>\n",
       "    </tr>\n",
       "  </thead>\n",
       "  <tbody>\n",
       "    <tr>\n",
       "      <th>Hindi</th>\n",
       "      <td>1000.0</td>\n",
       "      <td>51.645</td>\n",
       "      <td>29.471912</td>\n",
       "      <td>0.0</td>\n",
       "      <td>26.00</td>\n",
       "      <td>53.0</td>\n",
       "      <td>77.00</td>\n",
       "      <td>99.0</td>\n",
       "    </tr>\n",
       "    <tr>\n",
       "      <th>English</th>\n",
       "      <td>1000.0</td>\n",
       "      <td>50.110</td>\n",
       "      <td>28.048505</td>\n",
       "      <td>0.0</td>\n",
       "      <td>26.00</td>\n",
       "      <td>50.5</td>\n",
       "      <td>75.00</td>\n",
       "      <td>99.0</td>\n",
       "    </tr>\n",
       "    <tr>\n",
       "      <th>Science</th>\n",
       "      <td>1000.0</td>\n",
       "      <td>49.440</td>\n",
       "      <td>28.921114</td>\n",
       "      <td>0.0</td>\n",
       "      <td>25.00</td>\n",
       "      <td>50.0</td>\n",
       "      <td>73.25</td>\n",
       "      <td>99.0</td>\n",
       "    </tr>\n",
       "    <tr>\n",
       "      <th>Maths</th>\n",
       "      <td>1000.0</td>\n",
       "      <td>49.553</td>\n",
       "      <td>28.632447</td>\n",
       "      <td>0.0</td>\n",
       "      <td>25.75</td>\n",
       "      <td>49.0</td>\n",
       "      <td>74.00</td>\n",
       "      <td>99.0</td>\n",
       "    </tr>\n",
       "    <tr>\n",
       "      <th>History</th>\n",
       "      <td>1000.0</td>\n",
       "      <td>49.034</td>\n",
       "      <td>28.769750</td>\n",
       "      <td>0.0</td>\n",
       "      <td>24.00</td>\n",
       "      <td>49.0</td>\n",
       "      <td>73.25</td>\n",
       "      <td>99.0</td>\n",
       "    </tr>\n",
       "    <tr>\n",
       "      <th>Geograpgy</th>\n",
       "      <td>1000.0</td>\n",
       "      <td>50.028</td>\n",
       "      <td>28.710268</td>\n",
       "      <td>0.0</td>\n",
       "      <td>26.00</td>\n",
       "      <td>49.0</td>\n",
       "      <td>75.00</td>\n",
       "      <td>99.0</td>\n",
       "    </tr>\n",
       "    <tr>\n",
       "      <th>Total</th>\n",
       "      <td>1000.0</td>\n",
       "      <td>299.810</td>\n",
       "      <td>71.865239</td>\n",
       "      <td>103.0</td>\n",
       "      <td>254.00</td>\n",
       "      <td>296.0</td>\n",
       "      <td>349.25</td>\n",
       "      <td>505.0</td>\n",
       "    </tr>\n",
       "    <tr>\n",
       "      <th>Results</th>\n",
       "      <td>1000.0</td>\n",
       "      <td>0.350</td>\n",
       "      <td>0.477208</td>\n",
       "      <td>0.0</td>\n",
       "      <td>0.00</td>\n",
       "      <td>0.0</td>\n",
       "      <td>1.00</td>\n",
       "      <td>1.0</td>\n",
       "    </tr>\n",
       "    <tr>\n",
       "      <th>Div</th>\n",
       "      <td>1000.0</td>\n",
       "      <td>1.856</td>\n",
       "      <td>0.904479</td>\n",
       "      <td>0.0</td>\n",
       "      <td>1.00</td>\n",
       "      <td>2.0</td>\n",
       "      <td>3.00</td>\n",
       "      <td>3.0</td>\n",
       "    </tr>\n",
       "  </tbody>\n",
       "</table>\n",
       "</div>"
      ],
      "text/plain": [
       "            count     mean        std    min     25%    50%     75%    max\n",
       "Hindi      1000.0   51.645  29.471912    0.0   26.00   53.0   77.00   99.0\n",
       "English    1000.0   50.110  28.048505    0.0   26.00   50.5   75.00   99.0\n",
       "Science    1000.0   49.440  28.921114    0.0   25.00   50.0   73.25   99.0\n",
       "Maths      1000.0   49.553  28.632447    0.0   25.75   49.0   74.00   99.0\n",
       "History    1000.0   49.034  28.769750    0.0   24.00   49.0   73.25   99.0\n",
       "Geograpgy  1000.0   50.028  28.710268    0.0   26.00   49.0   75.00   99.0\n",
       "Total      1000.0  299.810  71.865239  103.0  254.00  296.0  349.25  505.0\n",
       "Results    1000.0    0.350   0.477208    0.0    0.00    0.0    1.00    1.0\n",
       "Div        1000.0    1.856   0.904479    0.0    1.00    2.0    3.00    3.0"
      ]
     },
     "execution_count": 5,
     "metadata": {},
     "output_type": "execute_result"
    }
   ],
   "source": [
    "df.describe().transpose()"
   ]
  },
  {
   "cell_type": "code",
   "execution_count": 6,
   "id": "53ba216b",
   "metadata": {},
   "outputs": [
    {
     "data": {
      "text/plain": [
       "Hindi        False\n",
       "English      False\n",
       "Science      False\n",
       "Maths        False\n",
       "History      False\n",
       "Geograpgy    False\n",
       "Total        False\n",
       "Results      False\n",
       "Div          False\n",
       "dtype: bool"
      ]
     },
     "execution_count": 6,
     "metadata": {},
     "output_type": "execute_result"
    }
   ],
   "source": [
    "df.isnull().any()"
   ]
  },
  {
   "cell_type": "code",
   "execution_count": 7,
   "id": "5d9f8c6a",
   "metadata": {},
   "outputs": [
    {
     "data": {
      "text/html": [
       "<div>\n",
       "<style scoped>\n",
       "    .dataframe tbody tr th:only-of-type {\n",
       "        vertical-align: middle;\n",
       "    }\n",
       "\n",
       "    .dataframe tbody tr th {\n",
       "        vertical-align: top;\n",
       "    }\n",
       "\n",
       "    .dataframe thead th {\n",
       "        text-align: right;\n",
       "    }\n",
       "</style>\n",
       "<table border=\"1\" class=\"dataframe\">\n",
       "  <thead>\n",
       "    <tr style=\"text-align: right;\">\n",
       "      <th></th>\n",
       "      <th>Hindi</th>\n",
       "      <th>English</th>\n",
       "      <th>Science</th>\n",
       "      <th>Maths</th>\n",
       "      <th>History</th>\n",
       "      <th>Geograpgy</th>\n",
       "      <th>Total</th>\n",
       "      <th>Results</th>\n",
       "      <th>Div</th>\n",
       "    </tr>\n",
       "  </thead>\n",
       "  <tbody>\n",
       "    <tr>\n",
       "      <th>Hindi</th>\n",
       "      <td>1.000000</td>\n",
       "      <td>0.036455</td>\n",
       "      <td>0.037616</td>\n",
       "      <td>0.041240</td>\n",
       "      <td>-0.024652</td>\n",
       "      <td>-0.064189</td>\n",
       "      <td>0.420384</td>\n",
       "      <td>0.273680</td>\n",
       "      <td>-0.081679</td>\n",
       "    </tr>\n",
       "    <tr>\n",
       "      <th>English</th>\n",
       "      <td>0.036455</td>\n",
       "      <td>1.000000</td>\n",
       "      <td>-0.022411</td>\n",
       "      <td>-0.011269</td>\n",
       "      <td>-0.001812</td>\n",
       "      <td>0.052253</td>\n",
       "      <td>0.411884</td>\n",
       "      <td>0.255056</td>\n",
       "      <td>-0.067873</td>\n",
       "    </tr>\n",
       "    <tr>\n",
       "      <th>Science</th>\n",
       "      <td>0.037616</td>\n",
       "      <td>-0.022411</td>\n",
       "      <td>1.000000</td>\n",
       "      <td>0.056314</td>\n",
       "      <td>0.005605</td>\n",
       "      <td>0.028846</td>\n",
       "      <td>0.445319</td>\n",
       "      <td>0.276698</td>\n",
       "      <td>-0.068866</td>\n",
       "    </tr>\n",
       "    <tr>\n",
       "      <th>Maths</th>\n",
       "      <td>0.041240</td>\n",
       "      <td>-0.011269</td>\n",
       "      <td>0.056314</td>\n",
       "      <td>1.000000</td>\n",
       "      <td>0.011525</td>\n",
       "      <td>-0.001140</td>\n",
       "      <td>0.437754</td>\n",
       "      <td>0.285308</td>\n",
       "      <td>-0.110058</td>\n",
       "    </tr>\n",
       "    <tr>\n",
       "      <th>History</th>\n",
       "      <td>-0.024652</td>\n",
       "      <td>-0.001812</td>\n",
       "      <td>0.005605</td>\n",
       "      <td>0.011525</td>\n",
       "      <td>1.000000</td>\n",
       "      <td>-0.022318</td>\n",
       "      <td>0.387443</td>\n",
       "      <td>0.238060</td>\n",
       "      <td>-0.081133</td>\n",
       "    </tr>\n",
       "    <tr>\n",
       "      <th>Geograpgy</th>\n",
       "      <td>-0.064189</td>\n",
       "      <td>0.052253</td>\n",
       "      <td>0.028846</td>\n",
       "      <td>-0.001140</td>\n",
       "      <td>-0.022318</td>\n",
       "      <td>1.000000</td>\n",
       "      <td>0.395791</td>\n",
       "      <td>0.226652</td>\n",
       "      <td>-0.082183</td>\n",
       "    </tr>\n",
       "    <tr>\n",
       "      <th>Total</th>\n",
       "      <td>0.420384</td>\n",
       "      <td>0.411884</td>\n",
       "      <td>0.445319</td>\n",
       "      <td>0.437754</td>\n",
       "      <td>0.387443</td>\n",
       "      <td>0.395791</td>\n",
       "      <td>1.000000</td>\n",
       "      <td>0.622658</td>\n",
       "      <td>-0.196862</td>\n",
       "    </tr>\n",
       "    <tr>\n",
       "      <th>Results</th>\n",
       "      <td>0.273680</td>\n",
       "      <td>0.255056</td>\n",
       "      <td>0.276698</td>\n",
       "      <td>0.285308</td>\n",
       "      <td>0.238060</td>\n",
       "      <td>0.226652</td>\n",
       "      <td>0.622658</td>\n",
       "      <td>1.000000</td>\n",
       "      <td>-0.258817</td>\n",
       "    </tr>\n",
       "    <tr>\n",
       "      <th>Div</th>\n",
       "      <td>-0.081679</td>\n",
       "      <td>-0.067873</td>\n",
       "      <td>-0.068866</td>\n",
       "      <td>-0.110058</td>\n",
       "      <td>-0.081133</td>\n",
       "      <td>-0.082183</td>\n",
       "      <td>-0.196862</td>\n",
       "      <td>-0.258817</td>\n",
       "      <td>1.000000</td>\n",
       "    </tr>\n",
       "  </tbody>\n",
       "</table>\n",
       "</div>"
      ],
      "text/plain": [
       "              Hindi   English   Science     Maths   History  Geograpgy  \\\n",
       "Hindi      1.000000  0.036455  0.037616  0.041240 -0.024652  -0.064189   \n",
       "English    0.036455  1.000000 -0.022411 -0.011269 -0.001812   0.052253   \n",
       "Science    0.037616 -0.022411  1.000000  0.056314  0.005605   0.028846   \n",
       "Maths      0.041240 -0.011269  0.056314  1.000000  0.011525  -0.001140   \n",
       "History   -0.024652 -0.001812  0.005605  0.011525  1.000000  -0.022318   \n",
       "Geograpgy -0.064189  0.052253  0.028846 -0.001140 -0.022318   1.000000   \n",
       "Total      0.420384  0.411884  0.445319  0.437754  0.387443   0.395791   \n",
       "Results    0.273680  0.255056  0.276698  0.285308  0.238060   0.226652   \n",
       "Div       -0.081679 -0.067873 -0.068866 -0.110058 -0.081133  -0.082183   \n",
       "\n",
       "              Total   Results       Div  \n",
       "Hindi      0.420384  0.273680 -0.081679  \n",
       "English    0.411884  0.255056 -0.067873  \n",
       "Science    0.445319  0.276698 -0.068866  \n",
       "Maths      0.437754  0.285308 -0.110058  \n",
       "History    0.387443  0.238060 -0.081133  \n",
       "Geograpgy  0.395791  0.226652 -0.082183  \n",
       "Total      1.000000  0.622658 -0.196862  \n",
       "Results    0.622658  1.000000 -0.258817  \n",
       "Div       -0.196862 -0.258817  1.000000  "
      ]
     },
     "execution_count": 7,
     "metadata": {},
     "output_type": "execute_result"
    }
   ],
   "source": [
    "df.corr()"
   ]
  },
  {
   "cell_type": "code",
   "execution_count": 8,
   "id": "e798ebc2",
   "metadata": {},
   "outputs": [
    {
     "data": {
      "text/plain": [
       "[<matplotlib.lines.Line2D at 0x244827f8250>]"
      ]
     },
     "execution_count": 8,
     "metadata": {},
     "output_type": "execute_result"
    },
    {
     "data": {
      "image/png": "[encoded data removed]",
      "text/plain": [
       "<Figure size 640x480 with 1 Axes>"
      ]
     },
     "metadata": {},
     "output_type": "display_data"
    }
   ],
   "source": [
    "plt.plot(df[\"Total\"])"
   ]
  },
  {
   "cell_type": "code",
   "execution_count": 9,
   "id": "fff106e7",
   "metadata": {},
   "outputs": [
    {
     "data": {
      "text/plain": [
       "<seaborn.axisgrid.FacetGrid at 0x24482849390>"
      ]
     },
     "execution_count": 9,
     "metadata": {},
     "output_type": "execute_result"
    },
    {
     "data": {
      "image/png": "[encoded data removed]",
      "text/plain": [
       "<Figure size 500x500 with 1 Axes>"
      ]
     },
     "metadata": {},
     "output_type": "display_data"
    }
   ],
   "source": [
    "sns.displot(x=df[\"Div\"],y=df[\"Total\"])"
   ]
  },
  {
   "cell_type": "code",
   "execution_count": 10,
   "id": "4598615f",
   "metadata": {},
   "outputs": [],
   "source": [
    "x=df.drop(\"Results\",axis=1)\n",
    "y=df[[\"Results\"]]"
   ]
  },
  {
   "cell_type": "code",
   "execution_count": 11,
   "id": "01e91af5",
   "metadata": {},
   "outputs": [],
   "source": [
    "from sklearn.linear_model import LogisticRegression\n",
    "from sklearn.metrics import confusion_matrix,accuracy_score,classification_report\n",
    "from sklearn.model_selection import train_test_split as tts"
   ]
  },
  {
   "cell_type": "code",
   "execution_count": 12,
   "id": "46b85420",
   "metadata": {},
   "outputs": [
    {
     "data": {
      "text/plain": [
       "((800, 8), (800, 1))"
      ]
     },
     "execution_count": 12,
     "metadata": {},
     "output_type": "execute_result"
    }
   ],
   "source": [
    "x_train,x_test,y_train,y_test=tts(x,y,test_size=0.20,random_state=5)\n",
    "x_train.shape,y_train.shape"
   ]
  },
  {
   "cell_type": "markdown",
   "id": "f091880c",
   "metadata": {},
   "source": [
    "# Logistic Regression"
   ]
  },
  {
   "cell_type": "code",
   "execution_count": 13,
   "id": "f48a4a09",
   "metadata": {},
   "outputs": [
    {
     "data": {
      "text/plain": [
       "0.79"
      ]
     },
     "execution_count": 13,
     "metadata": {},
     "output_type": "execute_result"
    }
   ],
   "source": [
    "lo=LogisticRegression()\n",
    "model=lo.fit(x_train,y_train)\n",
    "y_pred=model.predict(x_test)\n",
    "score_1=accuracy_score(y_test,y_pred)\n",
    "score_1"
   ]
  },
  {
   "cell_type": "code",
   "execution_count": 14,
   "id": "860481ef",
   "metadata": {},
   "outputs": [
    {
     "name": "stdout",
     "output_type": "stream",
     "text": [
      "              precision    recall  f1-score   support\n",
      "\n",
      "           0       0.85      0.83      0.84       132\n",
      "           1       0.69      0.71      0.70        68\n",
      "\n",
      "    accuracy                           0.79       200\n",
      "   macro avg       0.77      0.77      0.77       200\n",
      "weighted avg       0.79      0.79      0.79       200\n",
      "\n"
     ]
    }
   ],
   "source": [
    "print(classification_report(y_test,y_pred))"
   ]
  },
  {
   "cell_type": "code",
   "execution_count": 15,
   "id": "0f9e68dd",
   "metadata": {},
   "outputs": [
    {
     "data": {
      "text/plain": [
       "array([[110,  22],\n",
       "       [ 20,  48]], dtype=int64)"
      ]
     },
     "execution_count": 15,
     "metadata": {},
     "output_type": "execute_result"
    }
   ],
   "source": [
    "confusion_matrix(y_test,y_pred)"
   ]
  },
  {
   "cell_type": "markdown",
   "id": "47289054",
   "metadata": {},
   "source": [
    "110 instances were correctly predicted as \"not passing\" (True Negatives, TN).\n",
    "\n",
    "22 instances were incorrectly predicted as \"passing\" (False Positives, FP).\n",
    "\n",
    "20 instances were incorrectly predicted as \"not passing\" (False Negatives, FN).\n",
    "\n",
    "48 instances were correctly predicted as \"passing\" (True Positives, TP)."
   ]
  },
  {
   "cell_type": "markdown",
   "id": "9b413b4a",
   "metadata": {},
   "source": [
    "# Linear Regression"
   ]
  },
  {
   "cell_type": "code",
   "execution_count": 16,
   "id": "85bce001",
   "metadata": {},
   "outputs": [
    {
     "data": {
      "text/plain": [
       "(0.14086985003341246, 0.3722377449491423, 0.37160872465350014)"
      ]
     },
     "execution_count": 16,
     "metadata": {},
     "output_type": "execute_result"
    }
   ],
   "source": [
    "from sklearn.linear_model import LinearRegression\n",
    "lr=LinearRegression()\n",
    "model=lr.fit(x_train,y_train)\n",
    "y_pred=model.predict(x_test)\n",
    "from sklearn.metrics import mean_squared_error,r2_score\n",
    "from math import sqrt\n",
    "rmse=mean_squared_error(y_test,y_pred)\n",
    "r2=r2_score(y_test,y_pred)\n",
    "adj_r2=1-float(len(y)-1)/(len(y)-len(lr.coef_)-1)*(1-r2)\n",
    "rmse,r2,adj_r2"
   ]
  },
  {
   "cell_type": "markdown",
   "id": "07dd9c5f",
   "metadata": {},
   "source": [
    "# SVM"
   ]
  },
  {
   "cell_type": "code",
   "execution_count": 17,
   "id": "a5c27a1e",
   "metadata": {},
   "outputs": [
    {
     "data": {
      "text/plain": [
       "0.79"
      ]
     },
     "execution_count": 17,
     "metadata": {},
     "output_type": "execute_result"
    }
   ],
   "source": [
    "from sklearn.svm import SVC\n",
    "model=SVC(C=10,kernel=\"linear\",gamma=1)\n",
    "model.fit(x_train,y_train)\n",
    "y_pred=model.predict(x_test)\n",
    "svm_cm=confusion_matrix(y_test,y_pred)\n",
    "score_2=accuracy_score(y_test,y_pred)\n",
    "score_2"
   ]
  },
  {
   "cell_type": "code",
   "execution_count": 18,
   "id": "dd3421bf",
   "metadata": {},
   "outputs": [],
   "source": [
    "svm_cm_int = svm_cm.astype(int)"
   ]
  },
  {
   "cell_type": "code",
   "execution_count": 19,
   "id": "c5f8cf7c",
   "metadata": {},
   "outputs": [
    {
     "data": {
      "image/png": "[encoded data removed]",
      "text/plain": [
       "<Figure size 640x480 with 2 Axes>"
      ]
     },
     "metadata": {},
     "output_type": "display_data"
    }
   ],
   "source": [
    "sns.heatmap(svm_cm_int,annot=True,fmt=\"d\")\n",
    "plt.title('SVM Classification Confusion Matrix')\n",
    "plt.xlabel('Y predict')\n",
    "plt.ylabel('Y test')\n",
    "plt.show()"
   ]
  },
  {
   "cell_type": "code",
   "execution_count": 20,
   "id": "faded6ee",
   "metadata": {},
   "outputs": [
    {
     "name": "stdout",
     "output_type": "stream",
     "text": [
      "              precision    recall  f1-score   support\n",
      "\n",
      "           0       0.86      0.81      0.84       132\n",
      "           1       0.67      0.75      0.71        68\n",
      "\n",
      "    accuracy                           0.79       200\n",
      "   macro avg       0.77      0.78      0.77       200\n",
      "weighted avg       0.80      0.79      0.79       200\n",
      "\n"
     ]
    }
   ],
   "source": [
    "print(classification_report(y_test,y_pred))"
   ]
  },
  {
   "cell_type": "markdown",
   "id": "bfde498c",
   "metadata": {},
   "source": [
    "A precision score of 0.86 for class 0 means that 86% of the samples predicted as class 0 were actually class 0, and a precision score of 0.67 for class 1 means that 67% of the samples predicted as class 1 were actually class 1.\n",
    "\n",
    "A recall score of 0.81 for class 0 means that 81% of the actual class 0 samples were correctly classified as class 0, and a recall score of 0.75 for class 1 means that 75% of the actual class 1 samples were correctly classified as class 1.\n",
    "\n",
    "It ranges from 0 to 1, where 1 is the best value. A higher F1-score indicates better performance.\n",
    "\n",
    "Support is the number of actual occurrences of the class in the specified dataset. It's the number of samples in each class.\n",
    "\n",
    "It measures the overall correctness of the model across all classes. In this case, the overall accuracy of the model is 0.79, which means 79% of the samples were correctly classified.\n",
    "\n",
    "Macro average gives equal weight to each class, whereas weighted average takes the support of each class into account."
   ]
  },
  {
   "cell_type": "code",
   "execution_count": 21,
   "id": "f42b65f5",
   "metadata": {},
   "outputs": [
    {
     "data": {
      "text/plain": [
       "0.66"
      ]
     },
     "execution_count": 21,
     "metadata": {},
     "output_type": "execute_result"
    }
   ],
   "source": [
    "from sklearn.svm import SVC\n",
    "model=SVC(C=10,kernel=\"rbf\",gamma=1)\n",
    "model.fit(x_train,y_train)\n",
    "y_pred=model.predict(x_test)\n",
    "svm_cm=confusion_matrix(y_test,y_pred)\n",
    "score_3=accuracy_score(y_test,y_pred)\n",
    "score_3"
   ]
  },
  {
   "cell_type": "markdown",
   "id": "e6f6c528",
   "metadata": {},
   "source": [
    "# Naive Bayes"
   ]
  },
  {
   "cell_type": "code",
   "execution_count": 22,
   "id": "7bbd6725",
   "metadata": {},
   "outputs": [
    {
     "data": {
      "text/plain": [
       "0.81"
      ]
     },
     "execution_count": 22,
     "metadata": {},
     "output_type": "execute_result"
    }
   ],
   "source": [
    "from sklearn.naive_bayes import GaussianNB\n",
    "nb=GaussianNB()\n",
    "model=nb.fit(x_train,y_train)\n",
    "y_pred=model.predict(x_test)\n",
    "score_4=accuracy_score(y_test,y_pred)\n",
    "score_4"
   ]
  },
  {
   "cell_type": "code",
   "execution_count": 23,
   "id": "f32eb476",
   "metadata": {},
   "outputs": [
    {
     "name": "stdout",
     "output_type": "stream",
     "text": [
      "[[109  23]\n",
      " [ 15  53]]\n"
     ]
    }
   ],
   "source": [
    "print(confusion_matrix(y_test,y_pred))"
   ]
  },
  {
   "cell_type": "code",
   "execution_count": 24,
   "id": "084f4850",
   "metadata": {},
   "outputs": [
    {
     "name": "stdout",
     "output_type": "stream",
     "text": [
      "              precision    recall  f1-score   support\n",
      "\n",
      "           0       0.88      0.83      0.85       132\n",
      "           1       0.70      0.78      0.74        68\n",
      "\n",
      "    accuracy                           0.81       200\n",
      "   macro avg       0.79      0.80      0.79       200\n",
      "weighted avg       0.82      0.81      0.81       200\n",
      "\n"
     ]
    }
   ],
   "source": [
    "print(classification_report(y_test,y_pred))"
   ]
  },
  {
   "cell_type": "code",
   "execution_count": 25,
   "id": "cd706690",
   "metadata": {},
   "outputs": [
    {
     "name": "stdout",
     "output_type": "stream",
     "text": [
      "0.81\n"
     ]
    }
   ],
   "source": [
    "nb_score=nb.score(x_test,y_test)\n",
    "print(nb_score)"
   ]
  },
  {
   "cell_type": "markdown",
   "id": "786fb18c",
   "metadata": {},
   "source": [
    "# Decision Tree"
   ]
  },
  {
   "cell_type": "code",
   "execution_count": 26,
   "id": "41d83f93",
   "metadata": {},
   "outputs": [
    {
     "data": {
      "text/plain": [
       "0.83"
      ]
     },
     "execution_count": 26,
     "metadata": {},
     "output_type": "execute_result"
    }
   ],
   "source": [
    "from sklearn.tree import DecisionTreeClassifier\n",
    "dt=DecisionTreeClassifier()\n",
    "model=dt.fit(x_train,y_train)\n",
    "y_pred=model.predict(x_test)\n",
    "score_5=accuracy_score(y_test,y_pred)\n",
    "score_5"
   ]
  },
  {
   "cell_type": "code",
   "execution_count": 27,
   "id": "07812d29",
   "metadata": {},
   "outputs": [
    {
     "data": {
      "text/plain": [
       "(0.17, 0.17, 0.41231056256176607)"
      ]
     },
     "execution_count": 27,
     "metadata": {},
     "output_type": "execute_result"
    }
   ],
   "source": [
    "# Measure the performance of the model:\n",
    "from sklearn.metrics import mean_squared_error\n",
    "from sklearn.metrics import mean_absolute_error\n",
    "from math import sqrt\n",
    "\n",
    "mae=mean_absolute_error(y_test,y_pred)\n",
    "mse=mean_squared_error(y_test,y_pred)\n",
    "rmse=np.sqrt(mean_squared_error(y_test,y_pred))\n",
    "\n",
    "mae,mse,rmse"
   ]
  },
  {
   "cell_type": "code",
   "execution_count": 28,
   "id": "5a06d123",
   "metadata": {},
   "outputs": [
    {
     "name": "stdout",
     "output_type": "stream",
     "text": [
      "[[115  17]\n",
      " [ 17  51]]\n"
     ]
    }
   ],
   "source": [
    "print(confusion_matrix(y_test,y_pred))"
   ]
  },
  {
   "cell_type": "markdown",
   "id": "5e677740",
   "metadata": {},
   "source": [
    "# Random Forest"
   ]
  },
  {
   "cell_type": "code",
   "execution_count": 29,
   "id": "9a695f6c",
   "metadata": {},
   "outputs": [
    {
     "data": {
      "text/plain": [
       "0.925"
      ]
     },
     "execution_count": 29,
     "metadata": {},
     "output_type": "execute_result"
    }
   ],
   "source": [
    "from sklearn.ensemble import RandomForestClassifier\n",
    "rf=RandomForestClassifier(n_estimators=150,bootstrap=True,max_features=\"sqrt\")\n",
    "model=rf.fit(x_train,y_train)\n",
    "y_pred=model.predict(x_test)\n",
    "score_6=accuracy_score(y_test,y_pred)\n",
    "score_6"
   ]
  },
  {
   "cell_type": "code",
   "execution_count": 30,
   "id": "d1ff55b0",
   "metadata": {},
   "outputs": [
    {
     "data": {
      "text/plain": [
       "(0.075, 0.075, 0.27386127875258304)"
      ]
     },
     "execution_count": 30,
     "metadata": {},
     "output_type": "execute_result"
    }
   ],
   "source": [
    "from sklearn.metrics import mean_squared_error\n",
    "from sklearn.metrics import mean_absolute_error\n",
    "from math import sqrt\n",
    "from sklearn import metrics\n",
    "\n",
    "mae=metrics.mean_absolute_error(y_test,y_pred)\n",
    "mse=metrics.mean_squared_error(y_test,y_pred)\n",
    "rmse=np.sqrt(metrics.mean_squared_error(y_test,y_pred))\n",
    "mae,mse,rmse"
   ]
  },
  {
   "cell_type": "code",
   "execution_count": 31,
   "id": "51257666",
   "metadata": {},
   "outputs": [
    {
     "name": "stdout",
     "output_type": "stream",
     "text": [
      "[[127   5]\n",
      " [ 10  58]]\n"
     ]
    }
   ],
   "source": [
    "print(confusion_matrix(y_test,y_pred))"
   ]
  },
  {
   "cell_type": "markdown",
   "id": "dbf64e8b",
   "metadata": {},
   "source": [
    "# KNN"
   ]
  },
  {
   "cell_type": "code",
   "execution_count": 32,
   "id": "2282735b",
   "metadata": {},
   "outputs": [
    {
     "data": {
      "text/plain": [
       "0.85"
      ]
     },
     "execution_count": 32,
     "metadata": {},
     "output_type": "execute_result"
    }
   ],
   "source": [
    "from sklearn.neighbors import KNeighborsClassifier\n",
    "knn=KNeighborsClassifier(n_neighbors=6)\n",
    "model=knn.fit(x_train,y_train)\n",
    "y_pred=model.predict(x_test)\n",
    "score_7=accuracy_score(y_test,y_pred)\n",
    "score_7"
   ]
  },
  {
   "cell_type": "code",
   "execution_count": 33,
   "id": "b7bc8367",
   "metadata": {},
   "outputs": [
    {
     "data": {
      "text/plain": [
       "(0.15, 0.15, 0.3872983346207417)"
      ]
     },
     "execution_count": 33,
     "metadata": {},
     "output_type": "execute_result"
    }
   ],
   "source": [
    "mae=metrics.mean_absolute_error(y_test,y_pred)\n",
    "mse=metrics.mean_squared_error(y_test,y_pred)\n",
    "rmse=np.sqrt(metrics.mean_squared_error(y_test,y_pred))\n",
    "mae,mse,rmse"
   ]
  },
  {
   "cell_type": "code",
   "execution_count": 34,
   "id": "efb828bd",
   "metadata": {},
   "outputs": [
    {
     "name": "stdout",
     "output_type": "stream",
     "text": [
      "[[121  11]\n",
      " [ 19  49]]\n"
     ]
    }
   ],
   "source": [
    "print(confusion_matrix(y_test,y_pred))"
   ]
  },
  {
   "cell_type": "markdown",
   "id": "d3837cfd",
   "metadata": {},
   "source": [
    "Comparing for classification techniques"
   ]
  },
  {
   "cell_type": "code",
   "execution_count": 35,
   "id": "7fd56767",
   "metadata": {},
   "outputs": [
    {
     "name": "stdout",
     "output_type": "stream",
     "text": [
      "Logistic Regression Score              0.790\n",
      "Support Vector Machine Score_linear    0.790\n",
      "Support Vector Machine Score_rbf       0.660\n",
      "Naive Bayes Score                      0.810\n",
      "Decision Tree Score                    0.830\n",
      "Random Forest Score                    0.925\n",
      "K-Nearest Neighbour Score              0.850\n",
      "dtype: float64\n"
     ]
    }
   ],
   "source": [
    "Testscores = pd.Series([score_1, score_2, score_3, score_4, score_5, score_6,score_7], \n",
    "                        index=['Logistic Regression Score', 'Support Vector Machine Score_linear','Support Vector Machine Score_rbf', 'Naive Bayes Score', 'Decision Tree Score', 'Random Forest Score', 'K-Nearest Neighbour Score']) \n",
    "print(Testscores)"
   ]
  },
  {
   "cell_type": "code",
   "execution_count": null,
   "id": "ad1eba79",
   "metadata": {},
   "outputs": [],
   "source": []
  }
 ],
 "metadata": {
  "kernelspec": {
   "display_name": "Python 3 (ipykernel)",
   "language": "python",
   "name": "python3"
  },
  "language_info": {
   "codemirror_mode": {
    "name": "ipython",
    "version": 3
   },
   "file_extension": ".py",
   "mimetype": "text/x-python",
   "name": "python",
   "nbconvert_exporter": "python",
   "pygments_lexer": "ipython3",
   "version": "3.11.4"
  }
 },
 "nbformat": 4,
 "nbformat_minor": 5
}
